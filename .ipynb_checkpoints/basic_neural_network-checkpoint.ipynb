{
 "cells": [
  {
   "cell_type": "markdown",
   "metadata": {},
   "source": [
    "## Simple single layer neural network"
   ]
  },
  {
   "cell_type": "code",
   "execution_count": 19,
   "metadata": {
    "collapsed": true
   },
   "outputs": [],
   "source": [
    "import numpy as np                          #import dependencies for matrix math"
   ]
  },
  {
   "cell_type": "markdown",
   "metadata": {},
   "source": [
    "input data | output label\n",
    "---------- | ------------\n",
    "0 0 1 | 0\n",
    "0 0 1 | 1\n",
    "1 0 1 | 1\n",
    "1 1 1 | 0"
   ]
  },
  {
   "cell_type": "code",
   "execution_count": 36,
   "metadata": {},
   "outputs": [
    {
     "name": "stdout",
     "output_type": "stream",
     "text": [
      "[[0 0 1]\n",
      " [0 0 1]\n",
      " [1 0 1]\n",
      " [1 1 1]]  = input data\n",
      "\n",
      "[[0]\n",
      " [1]\n",
      " [1]\n",
      " [0]]  = output label\n",
      "\n"
     ]
    }
   ],
   "source": [
    "# input data\n",
    "input_data = np.array([[0,0,1],                   \n",
    "                       [0,0,1],\n",
    "                       [1,0,1],\n",
    "                       [1,1,1]])            # input array (4x3)\n",
    "output_label = np.array([[0],\n",
    "                         [1],\n",
    "                         [1],\n",
    "                         [0]])              # output label or array (4x1)\n",
    "print(input_data,' = input data\\n')         # display input data\n",
    "print(output_label,' = output label\\n')     # display output label(data)"
   ]
  },
  {
   "cell_type": "markdown",
   "metadata": {},
   "source": [
    "### Sigmoid function \n",
    "$$\n",
    "f(x) = \\frac{1}{(1+e^{-x})}\n",
    "$$"
   ]
  },
  {
   "cell_type": "code",
   "execution_count": 37,
   "metadata": {},
   "outputs": [],
   "source": [
    "# sigmoid function \n",
    "\n",
    "def activate(x,deriv=False):\n",
    "    if deriv == True:\n",
    "        return x*(1-x)\n",
    "    return 1/(1+np.exp(-x))"
   ]
  },
  {
   "cell_type": "code",
   "execution_count": 38,
   "metadata": {},
   "outputs": [
    {
     "name": "stdout",
     "output_type": "stream",
     "text": [
      "[[ 0.80786993]\n",
      " [-0.80907164]\n",
      " [ 0.33297204]]  = weights\n",
      "\n"
     ]
    }
   ],
   "source": [
    "# weights\n",
    "\n",
    "synaptic_weights = 2 * np.random.random((3,1)) - 1   # assign random numbers to weight array\n",
    "print(synaptic_weights,' = weights\\n')               # display weights "
   ]
  },
  {
   "cell_type": "code",
   "execution_count": 48,
   "metadata": {},
   "outputs": [],
   "source": [
    "# training \n",
    "for iteration in range(10000):\n",
    "    output = activate(np.dot(input_data,synaptic_weights))                 # (4x3) x (3x1)\n",
    "    error = output_label - output                                          # (4x1) - (4x1)\n",
    "    synaptic_weights += np.dot(input_data.T, error * activate(output,True))# (4x3)T x ((4x1) . (4x1))"
   ]
  },
  {
   "cell_type": "code",
   "execution_count": 50,
   "metadata": {},
   "outputs": [
    {
     "name": "stdout",
     "output_type": "stream",
     "text": [
      "[ 0.0070069]\n"
     ]
    }
   ],
   "source": [
    "# test for (1,1,0)\n",
    "test = activate(np.dot(np.array([1,1,0]),synaptic_weights))\n",
    "print(test)                                            # display answer"
   ]
  }
 ],
 "metadata": {
  "kernelspec": {
   "display_name": "Python 3",
   "language": "python",
   "name": "python3"
  },
  "language_info": {
   "codemirror_mode": {
    "name": "ipython",
    "version": 3
   },
   "file_extension": ".py",
   "mimetype": "text/x-python",
   "name": "python",
   "nbconvert_exporter": "python",
   "pygments_lexer": "ipython3",
   "version": "3.5.3"
  }
 },
 "nbformat": 4,
 "nbformat_minor": 2
}
