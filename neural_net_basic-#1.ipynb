{
 "cells": [
  {
   "cell_type": "markdown",
   "metadata": {},
   "source": [
    "## Basic neural network #1"
   ]
  },
  {
   "cell_type": "code",
   "execution_count": 1,
   "metadata": {
    "collapsed": true
   },
   "outputs": [],
   "source": [
    "import numpy as np"
   ]
  },
  {
   "cell_type": "markdown",
   "metadata": {},
   "source": [
    "#### Sigmoid function\n",
    "$$\n",
    "    f(x) = \\frac{1}{1+e^{-x}}\n",
    "$$"
   ]
  },
  {
   "cell_type": "code",
   "execution_count": 2,
   "metadata": {
    "collapsed": true
   },
   "outputs": [],
   "source": [
    "def sigmoid(x,deriv=False):\n",
    "    if(deriv == True):\n",
    "        return x*(1-x)\n",
    "    return 1/(1+np.exp(-x))"
   ]
  },
  {
   "cell_type": "code",
   "execution_count": 3,
   "metadata": {},
   "outputs": [
    {
     "name": "stdout",
     "output_type": "stream",
     "text": [
      "[[0 0 1]\n",
      " [0 1 1]\n",
      " [1 0 1]\n",
      " [1 1 1]]  = input data\n",
      "\n",
      "[[0]\n",
      " [1]\n",
      " [1]\n",
      " [0]]  = outpu label\n",
      "\n"
     ]
    }
   ],
   "source": [
    "X = np.array([[0,0,1],\n",
    "                      [0,1,1],\n",
    "                      [1,0,1],\n",
    "                      [1,1,1]])\n",
    "y = np.array([[0],\n",
    "                        [1],\n",
    "                        [1],\n",
    "                        [0]])\n",
    "print(X,' = input data\\n')\n",
    "\n",
    "print(y,' = outpu label\\n')"
   ]
  },
  {
   "cell_type": "code",
   "execution_count": 4,
   "metadata": {},
   "outputs": [
    {
     "name": "stdout",
     "output_type": "stream",
     "text": [
      "[[-0.16595599  0.44064899 -0.99977125 -0.39533485]\n",
      " [-0.70648822 -0.81532281 -0.62747958 -0.30887855]\n",
      " [-0.20646505  0.07763347 -0.16161097  0.370439  ]] \n",
      "\n",
      " [[-0.5910955 ]\n",
      " [ 0.75623487]\n",
      " [-0.94522481]\n",
      " [ 0.34093502]]\n"
     ]
    }
   ],
   "source": [
    "np.random.seed(1)\n",
    "\n",
    "#synapsis\n",
    "syn0 = 2 * np.random.random((3,4)) - 1\n",
    "syn1 = 2 * np.random.random((4,1)) - 1\n",
    "print(syn0,'\\n\\n',syn1)"
   ]
  },
  {
   "cell_type": "code",
   "execution_count": 5,
   "metadata": {},
   "outputs": [
    {
     "name": "stdout",
     "output_type": "stream",
     "text": [
      "error: 0.496410031903\n",
      "error: 0.00858452565325\n",
      "error: 0.00578945986251\n",
      "error: 0.00462917677677\n",
      "error: 0.00395876528027\n",
      "error: 0.00351012256786\n"
     ]
    }
   ],
   "source": [
    "for i in range(60000):\n",
    "    l0 = X                         # first layer (input layer)\n",
    "    l1 = sigmoid(np.dot(l0,syn0))  # layer 2 \n",
    "    l2 = sigmoid(np.dot(l1,syn1))  # layer 3\n",
    "    \n",
    "    l2_error = y - l2              # find error\n",
    "    \n",
    "    if(i % 10000) == 0:\n",
    "        print('error:',str(np.mean(np.abs(l2_error))))\n",
    "    \n",
    "    l2_delta = l2_error * sigmoid(l2,deriv=True)\n",
    "    l1_error = l2_delta.dot(syn1.T)\n",
    "    \n",
    "    l1_delta = l1_error * sigmoid(l1,deriv=True)\n",
    "    \n",
    "    syn1 += l1.T.dot(l2_delta)\n",
    "    syn0 += l0.T.dot(l1_delta)"
   ]
  },
  {
   "cell_type": "code",
   "execution_count": 6,
   "metadata": {},
   "outputs": [
    {
     "name": "stdout",
     "output_type": "stream",
     "text": [
      "output after training\n",
      "[[ 0.00260572]\n",
      " [ 0.99672209]\n",
      " [ 0.99701711]\n",
      " [ 0.00386759]]\n"
     ]
    }
   ],
   "source": [
    "print(\"output after training\")\n",
    "print(l2)"
   ]
  },
  {
   "cell_type": "code",
   "execution_count": null,
   "metadata": {
    "collapsed": true
   },
   "outputs": [],
   "source": [
    "    l0 = X                         # first layer (input layer)\n",
    "    l1 = sigmoid(np.dot(l0,syn0))  # layer 2 \n",
    "    l2 = sigmoid(np.dot(l1,syn1))  # layer 3\n",
    "    \n",
    "    l2_error = y - l2              # find error\n",
    "    \n",
    "    if(i % 10000) == 0:\n",
    "        print('error:',str(np.mean(np.abs(l2_error))))\n",
    "    \n",
    "    l2_delta = l2_error * sigmoid(l2,deriv=True)\n",
    "    l1_error = l2_delta.dot(syn1.T)\n",
    "    \n",
    "    l1_delta = l1_error * sigmoid(l1,deriv=True)\n",
    "    \n",
    "    syn1 += l1.T.dot(l2_delta)\n",
    "    syn0 += l0.T.dot(l1_delta)"
   ]
  },
  {
   "cell_type": "code",
   "execution_count": null,
   "metadata": {},
   "outputs": [],
   "source": [
    "print(l0,'\\n',l1,'\\n',l2)"
   ]
  },
  {
   "cell_type": "code",
   "execution_count": null,
   "metadata": {},
   "outputs": [],
   "source": [
    "print(l2_error,'\\n\\n',l2,'\\n\\n',l2_delta)"
   ]
  },
  {
   "cell_type": "code",
   "execution_count": null,
   "metadata": {},
   "outputs": [],
   "source": [
    "print(l1_error.shape, l2_delta.shape, syn1.shape)\n",
    "print('\\n\\n',l1_error,'\\n\\n', l2_delta,'\\n\\n', syn1)"
   ]
  },
  {
   "cell_type": "code",
   "execution_count": null,
   "metadata": {},
   "outputs": [],
   "source": [
    "print(l1_delta.shape,l1_error.shape,l1.shape)"
   ]
  },
  {
   "cell_type": "code",
   "execution_count": null,
   "metadata": {
    "collapsed": true
   },
   "outputs": [],
   "source": []
  }
 ],
 "metadata": {
  "kernelspec": {
   "display_name": "Python 3",
   "language": "python",
   "name": "python3"
  },
  "language_info": {
   "codemirror_mode": {
    "name": "ipython",
    "version": 3
   },
   "file_extension": ".py",
   "mimetype": "text/x-python",
   "name": "python",
   "nbconvert_exporter": "python",
   "pygments_lexer": "ipython3",
   "version": "3.5.3"
  }
 },
 "nbformat": 4,
 "nbformat_minor": 2
}
