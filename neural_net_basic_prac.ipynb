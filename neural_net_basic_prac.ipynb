{
 "cells": [
  {
   "cell_type": "code",
   "execution_count": 1,
   "metadata": {
    "collapsed": true
   },
   "outputs": [],
   "source": [
    "import numpy as np    #import dependencies for matrix math"
   ]
  },
  {
   "cell_type": "code",
   "execution_count": 3,
   "metadata": {},
   "outputs": [
    {
     "name": "stdout",
     "output_type": "stream",
     "text": [
      "[[0 0 1]\n",
      " [0 1 1]\n",
      " [1 0 1]\n",
      " [1 1 1]]  = input data\n",
      "\n",
      "[[0]\n",
      " [1]\n",
      " [1]\n",
      " [0]]  = outpu label\n",
      "\n"
     ]
    }
   ],
   "source": [
    "# input data\n",
    "input_data = np.array([[0,0,1],\n",
    "                      [0,1,1],\n",
    "                      [1,0,1],\n",
    "                      [1,1,1]])\n",
    "output_label = np.array([[0],\n",
    "                        [1],\n",
    "                        [1],\n",
    "                        [0]])\n",
    "print(input_data,' = input data\\n')\n",
    "print(output_label,' = outpu label\\n')"
   ]
  },
  {
   "cell_type": "code",
   "execution_count": 4,
   "metadata": {
    "collapsed": true
   },
   "outputs": [],
   "source": [
    "def change(x):\n",
    "    if x >= .5:\n",
    "        return 1\n",
    "    return 0"
   ]
  },
  {
   "cell_type": "code",
   "execution_count": 5,
   "metadata": {
    "collapsed": true
   },
   "outputs": [],
   "source": [
    "# sigmoid function\n",
    "def activate(x,deriv=False):\n",
    "    if deriv == True:\n",
    "        return x*(1-x)\n",
    "    return 1/(1+np.exp(-x))"
   ]
  },
  {
   "cell_type": "code",
   "execution_count": 13,
   "metadata": {},
   "outputs": [
    {
     "name": "stdout",
     "output_type": "stream",
     "text": [
      "[[ 0.00941113  0.09034493  0.6813381  -0.7563857 ]\n",
      " [-0.727694    0.72732278 -0.00089157 -0.33585983]\n",
      " [-0.69307991 -0.1958491  -0.60772285 -0.19114341]]  = weights1\n",
      "\n",
      "[[ 0.77883008]\n",
      " [-0.35895589]\n",
      " [-0.23349672]\n",
      " [ 0.39722945]]  = weights2\n",
      "\n"
     ]
    }
   ],
   "source": [
    "# weight values\n",
    "synaptic_weight_0 = 2 * np.random.random((3,4)) - 1\n",
    "synaptic_weight_1 = 2 * np.random.random((4,1)) - 1 \n",
    "\n",
    "print(synaptic_weight_0,' = weights1\\n')\n",
    "print(synaptic_weight_1,' = weights2\\n')"
   ]
  },
  {
   "cell_type": "code",
   "execution_count": 7,
   "metadata": {},
   "outputs": [
    {
     "name": "stdout",
     "output_type": "stream",
     "text": [
      "[[ 0.28646193]\n",
      " [ 0.25927496]\n",
      " [ 0.14958527]\n",
      " [ 0.13296796]]\n"
     ]
    }
   ],
   "source": [
    "print(activate(np.dot(input_data,synaptic_weight),' = random guess answer'))"
   ]
  },
  {
   "cell_type": "code",
   "execution_count": 15,
   "metadata": {},
   "outputs": [
    {
     "name": "stdout",
     "output_type": "stream",
     "text": [
      "error: 0.500444782176\n"
     ]
    },
    {
     "ename": "ValueError",
     "evalue": "operands could not be broadcast together with shapes (3,4) (4,1) (3,4) ",
     "output_type": "error",
     "traceback": [
      "\u001b[1;31m---------------------------------------------------------------------------\u001b[0m",
      "\u001b[1;31mValueError\u001b[0m                                Traceback (most recent call last)",
      "\u001b[1;32m<ipython-input-15-95b0c78cc9ee>\u001b[0m in \u001b[0;36m<module>\u001b[1;34m()\u001b[0m\n\u001b[0;32m     18\u001b[0m \u001b[1;33m\u001b[0m\u001b[0m\n\u001b[0;32m     19\u001b[0m \u001b[1;33m\u001b[0m\u001b[0m\n\u001b[1;32m---> 20\u001b[1;33m     \u001b[0msynaptic_weight_0\u001b[0m \u001b[1;33m+=\u001b[0m \u001b[0mlayer1\u001b[0m\u001b[1;33m.\u001b[0m\u001b[0mT\u001b[0m\u001b[1;33m.\u001b[0m\u001b[0mdot\u001b[0m\u001b[1;33m(\u001b[0m\u001b[0mlayer2_gradient\u001b[0m\u001b[1;33m)\u001b[0m\u001b[1;33m\u001b[0m\u001b[0m\n\u001b[0m\u001b[0;32m     21\u001b[0m     \u001b[0msynaptic_weight_1\u001b[0m \u001b[1;33m+=\u001b[0m \u001b[0mlayer0\u001b[0m\u001b[1;33m.\u001b[0m\u001b[0mT\u001b[0m\u001b[1;33m.\u001b[0m\u001b[0mdot\u001b[0m\u001b[1;33m(\u001b[0m\u001b[0mlayer1_gradient\u001b[0m\u001b[1;33m)\u001b[0m\u001b[1;33m\u001b[0m\u001b[0m\n",
      "\u001b[1;31mValueError\u001b[0m: operands could not be broadcast together with shapes (3,4) (4,1) (3,4) "
     ]
    }
   ],
   "source": [
    "# training\n",
    "\n",
    "for iteration in range(60000):\n",
    "    layer0 = input_data\n",
    "    layer1 = activate(np.dot(layer0,synaptic_weight_0))\n",
    "    layer2 = activate(np.dot(layer1,synaptic_weight_1))\n",
    "    \n",
    "    layer2_error = output_label - layer2\n",
    "    \n",
    "    if (iteration% 10000) == 0:\n",
    "        print(\"error:\",str(np.mean(np.abs(layer2_error))))\n",
    "    \n",
    "    layer2_gradient = layer2_error * activate(layer2,deriv=True)\n",
    "    \n",
    "    layer1_error = layer2_gradient.dot(synaptic_weight_1.T)\n",
    "    \n",
    "    layer1_gradient = layer1_error * activate(layer1,deriv=True)\n",
    "    \n",
    "    \n",
    "    synaptic_weight_0 += layer1.T.dot(layer2_gradient)\n",
    "    synaptic_weight_1 += layer0.T.dot(layer1_gradient)\n"
   ]
  },
  {
   "cell_type": "code",
   "execution_count": 18,
   "metadata": {},
   "outputs": [
    {
     "name": "stdout",
     "output_type": "stream",
     "text": [
      "Error:0.500444782176\n",
      "Error:0.0100824812387\n",
      "Error:0.00686335661501\n",
      "Error:0.00550829868965\n",
      "Error:0.0047200737646\n",
      "Error:0.00419041478722\n"
     ]
    }
   ],
   "source": [
    "for j in range(60000):\n",
    "\n",
    "\t# Forward propagate through layers 0, 1, and 2\n",
    "    layer0 = input_data\n",
    "    layer1 = activate(np.dot(layer0,synaptic_weight_0))\n",
    "    layer2 = activate(np.dot(layer1,synaptic_weight_1))\n",
    "\n",
    "    #calculate error for layer 2\n",
    "    layer2_error = output_label - layer2\n",
    "    \n",
    "    if (j% 10000) == 0:\n",
    "        print(\"Error:\" + str(np.mean(np.abs(layer2_error))))\n",
    "        \n",
    "    #Use it to compute the gradient\n",
    "    layer2_gradient = layer2_error*activate(layer2, deriv=True)\n",
    "\n",
    "    #calculate error for layer 1\n",
    "    layer1_error = layer2_gradient.dot(synaptic_weight_1.T)\n",
    "    \n",
    "    #Use it to compute its gradient\n",
    "    layer1_gradient = layer1_error * activate(layer1,deriv=True)\n",
    "    \n",
    "    #update the weights using the gradients\n",
    "    synaptic_weight_1 += layer1.T.dot(layer2_gradient)\n",
    "    synaptic_weight_0 += layer0.T.dot(layer1_gradient)\n"
   ]
  },
  {
   "cell_type": "code",
   "execution_count": 19,
   "metadata": {
    "scrolled": true
   },
   "outputs": [
    {
     "name": "stdout",
     "output_type": "stream",
     "text": [
      "[[-0.5]\n",
      " [ 0.5]\n",
      " [ 0.5]\n",
      " [-0.5]]  = error\n"
     ]
    }
   ],
   "source": [
    "print(error,' = error')"
   ]
  },
  {
   "cell_type": "code",
   "execution_count": 20,
   "metadata": {},
   "outputs": [
    {
     "name": "stdout",
     "output_type": "stream",
     "text": [
      "[ 0.5]\n",
      "[ 0.5]\n",
      "[ 0.5]\n"
     ]
    }
   ],
   "source": [
    "# test \n",
    "test1 = activate(np.dot(np.array([0,0,0]),synaptic_weight))\n",
    "test2 = activate(np.dot(np.array([1,1,0]),synaptic_weight))\n",
    "test3 = activate(np.dot(np.array([1,1,1]),synaptic_weight))\n",
    "print((test1))\n",
    "print((test2))\n",
    "print(test3)"
   ]
  },
  {
   "cell_type": "code",
   "execution_count": 21,
   "metadata": {
    "scrolled": false
   },
   "outputs": [
    {
     "name": "stdout",
     "output_type": "stream",
     "text": [
      "(4, 3)\n",
      "(4, 1)\n",
      "(4, 1)\n"
     ]
    }
   ],
   "source": [
    "print(input_data.shape)\n",
    "print(error.shape)\n",
    "print(output.shape)"
   ]
  },
  {
   "cell_type": "code",
   "execution_count": null,
   "metadata": {
    "collapsed": true
   },
   "outputs": [],
   "source": []
  }
 ],
 "metadata": {
  "kernelspec": {
   "display_name": "Python 3",
   "language": "python",
   "name": "python3"
  },
  "language_info": {
   "codemirror_mode": {
    "name": "ipython",
    "version": 3
   },
   "file_extension": ".py",
   "mimetype": "text/x-python",
   "name": "python",
   "nbconvert_exporter": "python",
   "pygments_lexer": "ipython3",
   "version": "3.5.3"
  }
 },
 "nbformat": 4,
 "nbformat_minor": 2
}
