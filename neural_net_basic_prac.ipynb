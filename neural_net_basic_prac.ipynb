{
 "cells": [
  {
   "cell_type": "code",
   "execution_count": 1,
   "metadata": {
    "collapsed": true
   },
   "outputs": [],
   "source": [
    "import numpy as np    #import dependencies for matrix math"
   ]
  },
  {
   "cell_type": "code",
   "execution_count": 2,
   "metadata": {},
   "outputs": [
    {
     "name": "stdout",
     "output_type": "stream",
     "text": [
      "[[0 0 1]\n",
      " [0 0 1]\n",
      " [1 0 1]\n",
      " [1 1 1]]  = input data\n",
      "\n",
      "[[0]\n",
      " [1]\n",
      " [1]\n",
      " [0]]  = outpu label\n",
      "\n"
     ]
    }
   ],
   "source": [
    "# input data\n",
    "input_data = np.array([[0,0,1],\n",
    "                      [0,0,1],\n",
    "                      [1,0,1],\n",
    "                      [1,1,1]])\n",
    "output_label = np.array([[0],\n",
    "                        [1],\n",
    "                        [1],\n",
    "                        [0]])\n",
    "print(input_data,' = input data\\n')\n",
    "print(output_label,' = outpu label\\n')"
   ]
  },
  {
   "cell_type": "code",
   "execution_count": 3,
   "metadata": {
    "collapsed": true
   },
   "outputs": [],
   "source": [
    "def change(x):\n",
    "    if x >= .5:\n",
    "        return 1\n",
    "    return 0"
   ]
  },
  {
   "cell_type": "code",
   "execution_count": 4,
   "metadata": {
    "collapsed": true
   },
   "outputs": [],
   "source": [
    "# sigmoid function\n",
    "def activate(x,deriv=False):\n",
    "    if deriv == True:\n",
    "        return x*(1-x)\n",
    "    return 1/(1+np.exp(-x))"
   ]
  },
  {
   "cell_type": "code",
   "execution_count": 6,
   "metadata": {},
   "outputs": [
    {
     "name": "stdout",
     "output_type": "stream",
     "text": [
      "[[ 0.39415486]\n",
      " [-0.34221746]\n",
      " [ 0.00513788]]  = weights\n",
      "\n"
     ]
    }
   ],
   "source": [
    "# weight values\n",
    "synaptic_weight  = 2 * np.random.random((3,1)) -1\n",
    "\n",
    "print(synaptic_weight,' = weights\\n')"
   ]
  },
  {
   "cell_type": "code",
   "execution_count": 7,
   "metadata": {},
   "outputs": [
    {
     "name": "stdout",
     "output_type": "stream",
     "text": [
      "[[ 0.50128447]\n",
      " [ 0.50128447]\n",
      " [ 0.59851772]\n",
      " [ 0.51426495]]\n"
     ]
    }
   ],
   "source": [
    "print(activate(np.dot(input_data,synaptic_weight),' = random guess answer'))"
   ]
  },
  {
   "cell_type": "code",
   "execution_count": 8,
   "metadata": {
    "collapsed": true
   },
   "outputs": [],
   "source": [
    "# training\n",
    "\n",
    "for iteration in range(1000):\n",
    "    output = activate(np.dot(input_data,synaptic_weight))\n",
    "    error = output_label - output\n",
    "    synaptic_weight += np.dot(input_data.T, error * activate(output,True))\n"
   ]
  },
  {
   "cell_type": "code",
   "execution_count": 9,
   "metadata": {
    "scrolled": true
   },
   "outputs": [
    {
     "name": "stdout",
     "output_type": "stream",
     "text": [
      "[[-0.50114881]\n",
      " [ 0.49885119]\n",
      " [ 0.04198429]\n",
      " [-0.03403907]]  = error\n"
     ]
    }
   ],
   "source": [
    "print(error,' = error')"
   ]
  },
  {
   "cell_type": "code",
   "execution_count": 13,
   "metadata": {},
   "outputs": [
    {
     "name": "stdout",
     "output_type": "stream",
     "text": [
      "[ 0.5]\n",
      "[ 0.0338703]\n",
      "[ 0.03402083]\n"
     ]
    }
   ],
   "source": [
    "# test \n",
    "test1 = activate(np.dot(np.array([0,0,0]),synaptic_weight))\n",
    "test2 = activate(np.dot(np.array([1,1,0]),synaptic_weight))\n",
    "test3 = activate(np.dot(np.array([1,1,1]),synaptic_weight))\n",
    "print((test1))\n",
    "print((test2))\n",
    "print(test3)"
   ]
  },
  {
   "cell_type": "code",
   "execution_count": 11,
   "metadata": {
    "scrolled": false
   },
   "outputs": [
    {
     "name": "stdout",
     "output_type": "stream",
     "text": [
      "(4, 3)\n",
      "(4, 1)\n",
      "(4, 1)\n"
     ]
    }
   ],
   "source": [
    "print(input_data.shape)\n",
    "print(error.shape)\n",
    "print(output.shape)"
   ]
  },
  {
   "cell_type": "code",
   "execution_count": null,
   "metadata": {
    "collapsed": true
   },
   "outputs": [],
   "source": []
  }
 ],
 "metadata": {
  "kernelspec": {
   "display_name": "Python 3",
   "language": "python",
   "name": "python3"
  },
  "language_info": {
   "codemirror_mode": {
    "name": "ipython",
    "version": 3
   },
   "file_extension": ".py",
   "mimetype": "text/x-python",
   "name": "python",
   "nbconvert_exporter": "python",
   "pygments_lexer": "ipython3",
   "version": "3.5.3"
  }
 },
 "nbformat": 4,
 "nbformat_minor": 2
}
